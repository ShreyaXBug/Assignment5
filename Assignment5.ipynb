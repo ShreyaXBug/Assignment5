{
  "nbformat": 4,
  "nbformat_minor": 0,
  "metadata": {
    "colab": {
      "provenance": []
    },
    "kernelspec": {
      "name": "python3",
      "display_name": "Python 3"
    },
    "language_info": {
      "name": "python"
    }
  },
  "cells": [
    {
      "cell_type": "code",
      "execution_count": null,
      "metadata": {
        "id": "BrxY8y-WxXkN"
      },
      "outputs": [],
      "source": []
    },
    {
      "cell_type": "markdown",
      "source": [
        "#Question 1 : Create an object named student with the following properties:\n",
        "● name: \"Rahul\"\n",
        "● age: 21\n",
        "● courses: an array containing \"Math\", \"Physics\", and \"Chemistry\"\n",
        "Then, perform the following operations:\n",
        "1. Add a new property grade with the value \"A\".\n",
        "2. Update the age to 22.\n",
        "3. Delete the courses property.\n"
      ],
      "metadata": {
        "id": "SZieDkW1xkuU"
      }
    },
    {
      "cell_type": "code",
      "source": [
        "let obj = {\n",
        "    name: \"Rahul\",\n",
        "    age: 21,\n",
        "    courses: [\"Math\", \"Physics\", \"chemistry\"]\n",
        "}\n",
        "//Adding new property as grade\n",
        "obj.grade = \"A\";\n",
        "\n",
        "//Updating the age\n",
        "obj.age = 22;\n",
        "\n",
        "//deleting the propert naming course\n",
        "delete obj.courses;\n",
        "\n",
        "console.log(obj);"
      ],
      "metadata": {
        "id": "Qx9U_s-Jz3V3"
      },
      "execution_count": null,
      "outputs": []
    },
    {
      "cell_type": "markdown",
      "source": [
        "#Question 2: Write a function checkEligibility that takes an age as a parameter\n",
        "and returns:\n",
        "● \"Eligible\" if age is 18 or above\n",
        "● \"Not Eligible\" if age is below 18\n",
        "Use an if-else statement"
      ],
      "metadata": {
        "id": "t5mWIVsqz4j4"
      }
    },
    {
      "cell_type": "code",
      "source": [
        "function checkEligibility(age){\n",
        "if(age<=18){\n",
        "    console.log(\"Eligible \");\n",
        "}\n",
        "else{\n",
        "    console.log(\"Not Eligible\");\n",
        "}\n",
        "}\n",
        "\n",
        "console.log(checkEligibility(56));\n",
        "\n"
      ],
      "metadata": {
        "id": "Nh5oOUHm1Yjn"
      },
      "execution_count": null,
      "outputs": []
    },
    {
      "cell_type": "markdown",
      "source": [
        "#Question 3: Write a function getDayName that takes a number (1-7) and returns the corresponding day of the week. Use a switch statement."
      ],
      "metadata": {
        "id": "IsJwPv7M1Zue"
      }
    },
    {
      "cell_type": "code",
      "source": [
        "function getDayName(number) {\n",
        "  switch (number) {\n",
        "    case 1:\n",
        "      return \"Sunday\";\n",
        "    case 2:\n",
        "      return \"Monday\";\n",
        "    case 3:\n",
        "      return \"Tuesday\";\n",
        "    case 4:\n",
        "      return \"Wednesday\";\n",
        "    case 5:\n",
        "      return \"Thursday\";\n",
        "    case 6:\n",
        "      return \"Friday\";\n",
        "    case 7:\n",
        "      return \"Saturday\";\n",
        "    default:\n",
        "      return \"Invalid input\";\n",
        "  }\n",
        "}\n",
        "\n",
        "console.log(getDayName(3));\n",
        "console.log(getDayName(7));\n",
        "console.log(getDayName(9));\n"
      ],
      "metadata": {
        "id": "YWvdq_6M1vPS"
      },
      "execution_count": null,
      "outputs": []
    },
    {
      "cell_type": "markdown",
      "source": [
        "#Question 4: Rewrite the checkEligibility function from Question 2 using the ternary operator."
      ],
      "metadata": {
        "id": "o2djZjyQ1wwx"
      }
    },
    {
      "cell_type": "code",
      "source": [
        "function checkEligibility( age){\n",
        " return (age>=18 ? \"Eligible\" : \"Not Eligible\");\n",
        "}\n",
        "\n",
        "console.log(checkEligibility(18));"
      ],
      "metadata": {
        "id": "kOeCq17r2vyD"
      },
      "execution_count": null,
      "outputs": []
    },
    {
      "cell_type": "markdown",
      "source": [
        "#Question 5: Given an array numbers = [1, 2, 3, 4, 5], perform the following:\n",
        "1. Use a for loop to print each number.\n",
        "2. Use a while loop to print each number.\n",
        "3. Use a for-in loop to print each index.\n",
        "4. Use a for-of loop to print each number."
      ],
      "metadata": {
        "id": "bQietZ7r2wnZ"
      }
    },
    {
      "cell_type": "code",
      "source": [
        "let arr = [1,2,3,4,5];\n",
        "\n",
        "//Using for loop to print each number\n",
        "for(let i =1; i<=arr.length;i++){\n",
        "    console.log(i);\n",
        "\n",
        "}\n",
        "\n",
        "//Using while loop\n",
        "let i =1;\n",
        "while(i<+arr.length){\n",
        "    console.log(i);\n",
        "    i++;\n",
        "}\n",
        "\n",
        "//using for-in loop\n",
        "for (let index in arr) {\n",
        "   console.log(index);\n",
        "\n",
        "    }\n",
        "\n",
        "    //using for-of loop\n",
        "    for (let num of arr) {\n",
        "        console.log(num);\n",
        "\n",
        "    }\n"
      ],
      "metadata": {
        "id": "E890knBD44bP"
      },
      "execution_count": null,
      "outputs": []
    },
    {
      "cell_type": "markdown",
      "source": [
        "#Question 6: Explain what functions are in JavaScript and provide an example of a function that adds two numbers.\n",
        "\n",
        "        -----> Functions: Function is block of coode which is executed when it is called.\n",
        "        Using function in Javascript Provides the code reusability.\n",
        "        \n"
      ],
      "metadata": {
        "id": "fetD9nV045mn"
      }
    },
    {
      "cell_type": "code",
      "source": [
        "function add( a, b){\n",
        "    return(a+b);\n",
        "}\n",
        "\n",
        "console.log(add(5,7));"
      ],
      "metadata": {
        "id": "umUbSyuU5Spf"
      },
      "execution_count": null,
      "outputs": []
    },
    {
      "cell_type": "markdown",
      "source": [
        "#Question 7: Convert the add function from Question 6 into an arrow function.\n"
      ],
      "metadata": {
        "id": "XOS-dJzB531Z"
      }
    },
    {
      "cell_type": "code",
      "source": [
        "const addNumbers = (a, b) => a + b;\n",
        "\n",
        "let result = addNumbers(5, 3);\n",
        "console.log(result);\n",
        "\n"
      ],
      "metadata": {
        "id": "RV4ACFye6Rnr"
      },
      "execution_count": null,
      "outputs": []
    },
    {
      "cell_type": "markdown",
      "source": [
        "#Question 8: Write a function greet that takes a name and a callback function. The greet function should call the callback with the name.\n"
      ],
      "metadata": {
        "id": "oXyBJMmx6VyX"
      }
    },
    {
      "cell_type": "code",
      "source": [
        "function greet(name, callback){\n",
        "callback(name);\n",
        "}\n",
        "\n",
        "function sayhello(name){\n",
        "    console.log(\"Hello\" + name +\"!\");\n",
        "}\n",
        "greet(\"PW\", sayhello);"
      ],
      "metadata": {
        "id": "nErexzU67lnb"
      },
      "execution_count": null,
      "outputs": []
    },
    {
      "cell_type": "markdown",
      "source": [
        "#Question 9: Given the array:\n",
        "const fruits = [\"apple\", \"banana\", \"cherry\"];\n",
        "1. What is the length of the array?\n",
        "2. Add \"date\" to the end of the array using the length property."
      ],
      "metadata": {
        "id": "PrteehE17mwS"
      }
    },
    {
      "cell_type": "code",
      "source": [
        "const fruits = [\"apple\", \"banana\", \"cherry\"];\n",
        "\n",
        "//length of array\n",
        "console.log(fruits.length);\n",
        "\n",
        "//adding date using length property\n",
        "fruits[fruits.length] = \"date\";\n",
        "console.log(fruits);"
      ],
      "metadata": {
        "id": "1h8ncO6K7rAM"
      },
      "execution_count": null,
      "outputs": []
    },
    {
      "cell_type": "markdown",
      "source": [
        "#Question 10: Given the string text = \" Hello World! \", perform the following:\n",
        "1. Trim the whitespace.\n",
        "2. Convert to uppercase.\n",
        "3. Check if it includes \"World\".\n"
      ],
      "metadata": {
        "id": "3FcnK9U68TZe"
      }
    },
    {
      "cell_type": "code",
      "source": [
        "let text = \" Hello World! \";\n",
        "console.log(text.trim());\n",
        "\n",
        "console.log(text.toUpperCase());\n",
        "\n",
        "console.log(text.includes(\"World\"));"
      ],
      "metadata": {
        "id": "A-nHNdmP9gNX"
      },
      "execution_count": null,
      "outputs": []
    },
    {
      "cell_type": "markdown",
      "source": [
        "#Question 11: Given the array numbers = [1, 2, 3, 4, 5], perform the following:\n",
        "1. Add 6 to the end.\n",
        "2. Remove the first element.\n",
        "3. Find the index of 4.\n",
        "4. Check if all numbers are greater than 0"
      ],
      "metadata": {
        "id": "OQbCw6yR9hwG"
      }
    },
    {
      "cell_type": "code",
      "source": [
        "let arr = [1, 2, 3, 4, 5];\n",
        "\n",
        "arr.push(6);\n",
        "console.log(arr);\n",
        "\n",
        "arr.shift();\n",
        "console.log(arr);\n",
        "\n",
        "\n",
        "console.log(arr.indexOf(4));\n",
        "console.log(allGreaterThanZero = arr.every(num => num>0));\n"
      ],
      "metadata": {
        "id": "Nq-rcOxH-vm-"
      },
      "execution_count": null,
      "outputs": []
    },
    {
      "cell_type": "code",
      "source": [],
      "metadata": {
        "id": "_s2eQTWcz-1G"
      },
      "execution_count": null,
      "outputs": []
    },
    {
      "cell_type": "code",
      "source": [],
      "metadata": {
        "id": "RZo74Uf5z-xh"
      },
      "execution_count": null,
      "outputs": []
    },
    {
      "cell_type": "code",
      "source": [],
      "metadata": {
        "id": "-6kZwNw9z-BS"
      },
      "execution_count": null,
      "outputs": []
    }
  ]
}